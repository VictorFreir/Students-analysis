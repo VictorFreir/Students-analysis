{
  "nbformat": 4,
  "nbformat_minor": 0,
  "metadata": {
    "colab": {
      "name": "Students-Analysis.ipynb",
      "provenance": [],
      "authorship_tag": "ABX9TyPAAzMVOl1Ti50bl+DAdDzR",
      "include_colab_link": true
    },
    "kernelspec": {
      "name": "python3",
      "display_name": "Python 3"
    },
    "language_info": {
      "name": "python"
    }
  },
  "cells": [
    {
      "cell_type": "markdown",
      "metadata": {
        "id": "view-in-github",
        "colab_type": "text"
      },
      "source": [
        "<a href=\"https://colab.research.google.com/github/VictorFreir/Students-analysis/blob/master/Students_Analysis.ipynb\" target=\"_parent\"><img src=\"https://colab.research.google.com/assets/colab-badge.svg\" alt=\"Open In Colab\"/></a>"
      ]
    },
    {
      "cell_type": "markdown",
      "metadata": {
        "id": "5N0B1T3nTcdg"
      },
      "source": [
        "<h1>Hey, dude!</h1>\n",
        "<h2>Sinta-se no seu próprio repositório!</h2>\n",
        "<h4>Nesse Notebook, vamos fazer uma análise de dados sobre a performance dos estudantes em testes.</h4>\n",
        "<br>\n",
        "<hr>\n",
        "<br>\n",
        "<h1><strong>Introdução</strong></h1>\n",
        "<p>Para começar, vamos entender mais sobre o projeto. A ideia é tirar insights desses dados. Para, assim, termos respostas sobre o que influencia nas notas dos testes e o quanto esses fatores infleunciam.</p>\n",
        "<p>Vamos começar importanto as bibliotecas necessárias e base de dados, que, por sinal, está disponível no Kaggle como: Predict Test Scores of Students.</p>\n",
        "\n",
        "\n"
      ]
    },
    {
      "cell_type": "code",
      "metadata": {
        "colab": {
          "base_uri": "https://localhost:8080/",
          "height": 264
        },
        "id": "uwEU8UUJRF8D",
        "outputId": "ce5efbd0-effa-449a-df90-aaf2870b41d3"
      },
      "source": [
        "import pandas as pd\n",
        "import matplotlib.pyplot as plt\n",
        "df = pd.read_csv('test_scores.csv')\n",
        "df.head(3)\n"
      ],
      "execution_count": 5,
      "outputs": [
        {
          "output_type": "execute_result",
          "data": {
            "text/html": [
              "<div>\n",
              "<style scoped>\n",
              "    .dataframe tbody tr th:only-of-type {\n",
              "        vertical-align: middle;\n",
              "    }\n",
              "\n",
              "    .dataframe tbody tr th {\n",
              "        vertical-align: top;\n",
              "    }\n",
              "\n",
              "    .dataframe thead th {\n",
              "        text-align: right;\n",
              "    }\n",
              "</style>\n",
              "<table border=\"1\" class=\"dataframe\">\n",
              "  <thead>\n",
              "    <tr style=\"text-align: right;\">\n",
              "      <th></th>\n",
              "      <th>school</th>\n",
              "      <th>school_setting</th>\n",
              "      <th>school_type</th>\n",
              "      <th>classroom</th>\n",
              "      <th>teaching_method</th>\n",
              "      <th>n_student</th>\n",
              "      <th>student_id</th>\n",
              "      <th>gender</th>\n",
              "      <th>lunch</th>\n",
              "      <th>pretest</th>\n",
              "      <th>posttest</th>\n",
              "    </tr>\n",
              "  </thead>\n",
              "  <tbody>\n",
              "    <tr>\n",
              "      <th>0</th>\n",
              "      <td>ANKYI</td>\n",
              "      <td>Urban</td>\n",
              "      <td>Non-public</td>\n",
              "      <td>6OL</td>\n",
              "      <td>Standard</td>\n",
              "      <td>20.0</td>\n",
              "      <td>2FHT3</td>\n",
              "      <td>Female</td>\n",
              "      <td>Does not qualify</td>\n",
              "      <td>62.0</td>\n",
              "      <td>72.0</td>\n",
              "    </tr>\n",
              "    <tr>\n",
              "      <th>1</th>\n",
              "      <td>ANKYI</td>\n",
              "      <td>Urban</td>\n",
              "      <td>Non-public</td>\n",
              "      <td>6OL</td>\n",
              "      <td>Standard</td>\n",
              "      <td>20.0</td>\n",
              "      <td>3JIVH</td>\n",
              "      <td>Female</td>\n",
              "      <td>Does not qualify</td>\n",
              "      <td>66.0</td>\n",
              "      <td>79.0</td>\n",
              "    </tr>\n",
              "    <tr>\n",
              "      <th>2</th>\n",
              "      <td>ANKYI</td>\n",
              "      <td>Urban</td>\n",
              "      <td>Non-public</td>\n",
              "      <td>6OL</td>\n",
              "      <td>Standard</td>\n",
              "      <td>20.0</td>\n",
              "      <td>3XOWE</td>\n",
              "      <td>Male</td>\n",
              "      <td>Does not qualify</td>\n",
              "      <td>64.0</td>\n",
              "      <td>76.0</td>\n",
              "    </tr>\n",
              "  </tbody>\n",
              "</table>\n",
              "</div>"
            ],
            "text/plain": [
              "  school school_setting school_type  ...             lunch pretest  posttest\n",
              "0  ANKYI          Urban  Non-public  ...  Does not qualify    62.0      72.0\n",
              "1  ANKYI          Urban  Non-public  ...  Does not qualify    66.0      79.0\n",
              "2  ANKYI          Urban  Non-public  ...  Does not qualify    64.0      76.0\n",
              "\n",
              "[3 rows x 11 columns]"
            ]
          },
          "metadata": {
            "tags": []
          },
          "execution_count": 5
        }
      ]
    },
    {
      "cell_type": "markdown",
      "metadata": {
        "id": "RcdWjqfQW071"
      },
      "source": [
        "<h1>Análise exploratória dos dados</h1>\n",
        "<p>Vamos começar dando uma olhada na relação que o sexo tem com as notas. Bem, o esperado biologicamente é que sejam iguais. Para conferir isso vamos olhar a média de cada sexo:</p>"
      ]
    },
    {
      "cell_type": "code",
      "metadata": {
        "colab": {
          "base_uri": "https://localhost:8080/"
        },
        "id": "7O0d79DLWtHT",
        "outputId": "d656312c-5f14-4fd9-e4dc-20789440a445"
      },
      "source": [
        "df.groupby('gender').posttest.mean()"
      ],
      "execution_count": 6,
      "outputs": [
        {
          "output_type": "execute_result",
          "data": {
            "text/plain": [
              "gender\n",
              "Female    67.004735\n",
              "Male      67.197772\n",
              "Name: posttest, dtype: float64"
            ]
          },
          "metadata": {
            "tags": []
          },
          "execution_count": 6
        }
      ]
    },
    {
      "cell_type": "markdown",
      "metadata": {
        "id": "hEbmzAcAYgG6"
      },
      "source": [
        "<p>Dessa forma, como já era esperado, nós temos a média das notas praticamente iguais. A diferença de quase 2 décimos se faz irrelevante nesse caso."
      ]
    },
    {
      "cell_type": "markdown",
      "metadata": {
        "id": "c5dpTl4JYuL0"
      },
      "source": [
        "<p>Uma característica interessante de ser analisada também é a localização das escolas. Então, criaremos um gráfico de barra simples de ser entendido mostrando a relação entre a localização e as notas. Tirando, para isso, a média por região:</p>"
      ]
    },
    {
      "cell_type": "code",
      "metadata": {
        "colab": {
          "base_uri": "https://localhost:8080/",
          "height": 333
        },
        "id": "U8YChOn6YfMs",
        "outputId": "cfaa41c8-013e-4358-cf51-9cb3b315442d"
      },
      "source": [
        "df.groupby('school_setting').posttest.mean().plot(kind='bar')\n",
        "plt.title('Relação Localidade X Notas')\n",
        "plt.ylabel('Nota Média')\n",
        "plt.xlabel('Localização')\n",
        "plt.show()"
      ],
      "execution_count": 7,
      "outputs": [
        {
          "output_type": "display_data",
          "data": {
            "image/png": "[encoded data removed]",
            "text/plain": [
              "<Figure size 432x288 with 1 Axes>"
            ]
          },
          "metadata": {
            "tags": [],
            "needs_background": "light"
          }
        }
      ]
    },
    {
      "cell_type": "markdown",
      "metadata": {
        "id": "QNMRXVPMZ9PS"
      },
      "source": [
        "<p>Vemos que a média de alunos que estudam em escolas localizadas nos \"surburbans\" é superior às médias das demais localizações.</p>\n",
        "<p>Também foram usados dois métodos de ensino que nós podíamos dar uma olhada na relação com as notas, bora?</p>"
      ]
    },
    {
      "cell_type": "code",
      "metadata": {
        "colab": {
          "base_uri": "https://localhost:8080/"
        },
        "id": "mqZ4Mv9JZvDb",
        "outputId": "a4dfdb43-c2a3-4016-be13-be8339dccdcd"
      },
      "source": [
        "df.groupby('teaching_method').posttest.mean()"
      ],
      "execution_count": 10,
      "outputs": [
        {
          "output_type": "execute_result",
          "data": {
            "text/plain": [
              "teaching_method\n",
              "Experimental    72.982895\n",
              "Standard        63.847050\n",
              "Name: posttest, dtype: float64"
            ]
          },
          "metadata": {
            "tags": []
          },
          "execution_count": 10
        }
      ]
    },
    {
      "cell_type": "markdown",
      "metadata": {
        "id": "7Lr45VLhatvS"
      },
      "source": [
        "<p>Opa, vemos então que o método de ensino experimental teve um resultado bem melhor do que o método padrão. Vemos que sair da caixinha - as vezes - faz bem.</p>\n"
      ]
    },
    {
      "cell_type": "markdown",
      "metadata": {
        "id": "2nXq6vr8cfKS"
      },
      "source": [
        "<p>Dando uma olhada nas variáveis que temos para analisar, vemos que a quantidade de aluno por sala varia. Essa parece uma variável indispensável na nossa análise. Vamos conferir:</p>"
      ]
    },
    {
      "cell_type": "code",
      "metadata": {
        "colab": {
          "base_uri": "https://localhost:8080/",
          "height": 296
        },
        "id": "f-LuBqFoce4N",
        "outputId": "f6514a04-8332-4586-ad20-381e74e20f3c"
      },
      "source": [
        "df.groupby('n_student').posttest.mean().plot(color='red')\n",
        "plt.title('Relação do número de alunos na sala e nota')\n",
        "plt.ylabel('Nota média')\n",
        "plt.xlabel('Número de estudante por sala')\n",
        "plt.show()"
      ],
      "execution_count": 14,
      "outputs": [
        {
          "output_type": "display_data",
          "data": {
            "image/png": "[encoded data removed]",
            "text/plain": [
              "<Figure size 432x288 with 1 Axes>"
            ]
          },
          "metadata": {
            "tags": [],
            "needs_background": "light"
          }
        }
      ]
    },
    {
      "cell_type": "markdown",
      "metadata": {
        "id": "zeGy5k9KdFBS"
      },
      "source": [
        "<p>E \"TÁ\" LÁ. Como imaginado, temos uma variação enorme nas notas com base na quantidade de alunos por sala. Assim, é plausível dizer que as notas médias caem quando as salas contém mais alunos.</p>"
      ]
    },
    {
      "cell_type": "markdown",
      "metadata": {
        "id": "0gKkglQyeIFN"
      },
      "source": [
        "<p>Por último, vamos ver se há relação nas notas obtidas no pre-teste e no teste real:</p>"
      ]
    },
    {
      "cell_type": "code",
      "metadata": {
        "colab": {
          "base_uri": "https://localhost:8080/",
          "height": 295
        },
        "id": "Hcm3dNumZ6-b",
        "outputId": "6a2e1337-b5c8-420e-90ff-92ad8a5ebee7"
      },
      "source": [
        "x,y = df['pretest'],df['posttest']\n",
        "plt.scatter(x,y,color='orange')\n",
        "plt.title('Relação do pre-teste com o teste')\n",
        "plt.xlabel('notas do pre-teste')\n",
        "plt.ylabel('notas do teste')\n",
        "plt.show()"
      ],
      "execution_count": 13,
      "outputs": [
        {
          "output_type": "display_data",
          "data": {
            "image/png": "[encoded data removed]",
            "text/plain": [
              "<Figure size 432x288 with 1 Axes>"
            ]
          },
          "metadata": {
            "tags": [],
            "needs_background": "light"
          }
        }
      ]
    },
    {
      "cell_type": "markdown",
      "metadata": {
        "id": "nRjVrwoFeY_C"
      },
      "source": [
        "<p>Sem dúvidas, só vendo o gráfico, podemos afirmar que há uma correlação entre as notas do pré teste e do teste real.</p>"
      ]
    },
    {
      "cell_type": "markdown",
      "metadata": {
        "id": "GRPpFQ-jen25"
      },
      "source": [
        "<h1>Conclusões</h1>\n",
        "<p>Vamos ver o  que podemos tirar desses dados:</p>\n",
        "<ul>\n",
        "<li>O sexo dos estudantes NÃO interferiram no desempenho dos mesmos no exame.</li>\n",
        "<li>Estudantes dos \"suburbans\" se saem, em média, 16% melhores que os das demais regiões.</li>\n",
        "<li>Os alunos que fizeram uso do método experimental obtiveram, em média, 14% a mais de nota do que os estudantes que fizeram uso do método tradicional.</li>\n",
        "<li>Quando se trata do número de aluno por sala, vemos que a situação é ainda mais grave. Uma vez que a diferença média de notas chega até 38 pontos.</li>\n",
        "<li>Por fim, vemos que, como esperado, os alunos que foram bem no pré-teste se saíram bem, também, no teste oficial. Havendo, assim, uma possível correlação entre essas variáveis.</li>\n",
        "</ul>\n",
        "<p>Bem, por fim, nós conseguimos realizar nossa análise exploratória dos dados. Obtivendo, assim, insights baseados nos dados com o uso de estatística básica e visualização de gráfico.</p>\n",
        "<p>Teve dúvidas, sugestões ou críticas? Te convido à meu imbox no LinkedIn:https://www.linkedin.com/in/victor-vin%C3%ADcius-freire-de-ara%C3%BAjo-bb3782207/</p>\n",
        "<p>Agradeço por lerem até aqui e me acompanharem em mais essa aventura dos dados, muito obrigado!</>"
      ]
    }
  ]
}